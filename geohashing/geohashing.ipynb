{
 "cells": [
  {
   "cell_type": "markdown",
   "metadata": {},
   "source": [
    "#OA3802 Lab 5: GDELT (Geohash)\n",
    "###Travis Farwell\n",
    "##Task 0: Access GDELT Data\n",
    "The first task is to fetch entries from the GDELT (Global Database of Events, Language, and Tone) database for a given date and 30 days prior. First some modules are import into the work space. "
   ]
  },
  {
   "cell_type": "code",
   "execution_count": 1,
   "metadata": {
    "collapsed": true
   },
   "outputs": [],
   "source": [
    "import re\n",
    "import pytz\n",
    "import gdelt\n",
    "import math\n",
    "import datetime\n",
    "import numpy as np\n",
    "import pandas as pd\n",
    "import seaborn as sns\n",
    "import geoplot as gplt\n",
    "import pygeohash as pgh\n",
    "from tzwhere import tzwhere \n",
    "from haversine import haversine\n",
    "import matplotlib.pyplot as plt\n",
    "from pytrie import SortedStringTrie as Trie\n",
    "import warnings\n",
    "warnings.filterwarnings('ignore')\n",
    "\n",
    "tz1 = tzwhere.tzwhere(forceTZ=True)"
   ]
  },
  {
   "cell_type": "markdown",
   "metadata": {},
   "source": [
    "Now a function is created that takes three parameters as input; a year, a month and a day all in numberic form. Inside the function a gdelt object is created which will be used to search the database. The inputted parameters are converted into a 2 datetime objects. A start date and an end date using the date() and timedelta() functions are created which are passed to the Search() function from the gdelt library. The results are stored as a pandas dataframe."
   ]
  },
  {
   "cell_type": "code",
   "execution_count": 2,
   "metadata": {},
   "outputs": [],
   "source": [
    "def pull_30(year, month, day):\n",
    "    gd = gdelt.gdelt()\n",
    "    start_date = datetime.date(year,month,day) - datetime.timedelta(30)\n",
    "    end_date = datetime.date(year,month,day)\n",
    "    return gd.Search([str(start_date),str(end_date)],output='gpd',normcols=True,coverage=False)\n",
    "    \n",
    "results = pull_30(2017,10,31)"
   ]
  },
  {
   "cell_type": "markdown",
   "metadata": {},
   "source": [
    "##Task 1: Great-Circle Distance Subsetting\n",
    "\n",
    "Given latitude and longitude coordinates, a distance in kilometers and a list of numeric CAMEO event codes, pull the corresponding events which are within the great-circle of these coordinates. The function below loops through each event calculating the distance of the event and the given coordinates. The haversine library is used as a helper function to calculate the distance. If the distance is within the desired great-circle and the eventcode is in the list of desired eventcodes, the event is appended to an output list.  A dataframe is created from the list and sorted by distance. The top 10 closest events are returned. "
   ]
  },
  {
   "cell_type": "code",
   "execution_count": 3,
   "metadata": {},
   "outputs": [
    {
     "name": "stdout",
     "output_type": "stream",
     "text": [
      "  EventCode       Lat-Long  Distance\n",
      "0       013  (15.05, 1.83)      1.29\n",
      "1       020  (13.52, 2.12)    173.47\n",
      "2       020  (13.52, 2.12)    173.47\n"
     ]
    }
   ],
   "source": [
    "def great_circle(x = (15.05,1.82), y = 300, z = [13,14,18,19,20]):\n",
    "    output = []\n",
    "    for i in range(len(results)):\n",
    "        try:\n",
    "            dist = round(haversine(x,(results['actiongeolat'][i],results['actiongeolong'][i])),2)\n",
    "            if dist <= y:\n",
    "                if int(results['eventcode'][i]) in z:\n",
    "                    output.append([results['eventcode'][i],(round(results['actiongeolat'][i],2),\\\n",
    "                                                            round(results['actiongeolong'][i],2)),dist])\n",
    "        except:\n",
    "            continue\n",
    "    df = pd.DataFrame(output)\n",
    "    df.columns = ['EventCode', 'Lat-Long','Distance']\n",
    "    df.sort_values('Distance')\n",
    "    return df[0:10]\n",
    "print(great_circle())"
   ]
  },
  {
   "cell_type": "markdown",
   "metadata": {},
   "source": [
    "##Task 2: Geohash Subsetting\n",
    "\n",
    "The end goal of task 2 is the same as task 1 but this time using geohashing to find events rather than great-circle distance. The pygeohash library is used to create the geohashes from the latitude and longitude coordinates. A hash will be found beforehand and added to each event. The encode function is vectorized so the geohashes can be created on the dataframe in parallel using a lambda expression inside the pandas assign() function. From the marisa_trie library, a trie data structure will be created to serve to query matching hashes faster. A trie is perfect for geohashing as geohashing works by finding matching prefixes. The more matching prefixes two geohashes have the closer the two points are on the map. "
   ]
  },
  {
   "cell_type": "code",
   "execution_count": 4,
   "metadata": {
    "collapsed": true
   },
   "outputs": [],
   "source": [
    "#vectorize encode function\n",
    "vect = np.vectorize(pgh.encode)\n",
    "results = results.assign(geohash = lambda x: vect(x.actiongeolat,x.actiongeolong) )\n",
    "results = results.sort_values('geohash')\n",
    "\n",
    "import marisa_trie\n",
    "trie = marisa_trie.Trie(list(results['geohash']))"
   ]
  },
  {
   "cell_type": "markdown",
   "metadata": {},
   "source": [
    "Geohashing isn't as precise as great-circle calculation. In the geohash() function below, a list of errors is created which represents the precision as more geohash prefixes are matched. For example, if 1 prefix is matched the two points are at least within 2500 km of eachother. If 2 prefixes are matched at least 630 km of eachother and so on. In the function below the number of desired prefix mathes is calculated by looping through the errors list and stopping when the desired distance (default is y = 300) is less than the errors index. This number will be used to find all events that at least match this number of prefixes. In the example we want to match at least 2 indexes, i.e. everything less than 630 km precision. A geohash is created of the desired center. The desired prefix match is sent to the keys() function to fetch all keys from the trie that match the prefix.  From these, the great-circle distance is computed to find a precise solution since some of the hash distances will be more than the desired radius."
   ]
  },
  {
   "cell_type": "code",
   "execution_count": 5,
   "metadata": {},
   "outputs": [
    {
     "name": "stdout",
     "output_type": "stream",
     "text": [
      "        Geohash EventCode       Lat-Long  Distance  \\\n",
      "0  s49m9sjvkj3n       013  (15.05, 1.83)      1.29   \n",
      "1  s43sbhtk3zx8       020  (13.52, 2.12)    173.47   \n",
      "2  s43sbhtk3zx8       020  (13.52, 2.12)    173.47   \n",
      "\n",
      "                                                 Url  \n",
      "0  http://www.tbo.com/ap/national/us-general-lays...  \n",
      "1  http://dailycaller.com/2017/10/23/dunford-reve...  \n",
      "2  http://dailycaller.com/2017/10/23/dunford-reve...  \n"
     ]
    }
   ],
   "source": [
    "def geohash(x = (15.05,1.82), y = 300, z = [13,14,18,19,20]):\n",
    "    #create list of geohashes\n",
    "    output = []\n",
    "    #geohash error precision\n",
    "    errors = [2500,630,78,20,2.4,.61,.076,.019]\n",
    "    i = 0\n",
    "    while y < errors[i]:\n",
    "        i = i + 1\n",
    "    center = pgh.encode(x[0],x[1])\n",
    "    #fetch all matching prefixes of length i or better\n",
    "    keys = trie.keys(center[0:(i)])\n",
    "    for i in range(len(results)):\n",
    "        try:\n",
    "            if str(results['geohash'][i]) in keys:\n",
    "                dist = round(haversine(x,(results['actiongeolat'][i],results['actiongeolong'][i])),2)\n",
    "                if dist < y and int(results['eventcode'][i]) in z:\n",
    "                    output.append([results['geohash'][i],\\\n",
    "                                   results['eventcode'][i],\\\n",
    "                                   (round(results['actiongeolat'][i],2),\\\n",
    "                                    round(results['actiongeolong'][i],2)),\\\n",
    "                                   dist, results['sourceurl'][i]])\n",
    "        except:\n",
    "            continue\n",
    "    df = pd.DataFrame(output)\n",
    "    df.columns = ['Geohash','EventCode', 'Lat-Long','Distance','Url']\n",
    "    df.sort_values('Distance')\n",
    "    return df[0:10]        \n",
    "print(geohash())              "
   ]
  },
  {
   "cell_type": "markdown",
   "metadata": {},
   "source": [
    "##Task 3: Benchmarking and Implementation\n",
    "\n",
    "The performance of each technique are timed. The geohash function takes about half the time as the great-circle implementation. The geohash searches at O(logn) while the great-circle has to compute the distance between every entry and the desired center making it's computation complexity O(n). One drawback of the geohash method is that the geohashes need to be computed first and stored before they can be searched efficiently. This takes up more memory than the great-circle way. Another possible issue with the geohash computation is that precision is sacrificed for speed. By adding a haversine calculation in the geohash function after the search is completed, more precise entries can be returned. This implementation was used in the geohash function in Task 2. "
   ]
  },
  {
   "cell_type": "code",
   "execution_count": 6,
   "metadata": {},
   "outputs": [
    {
     "name": "stdout",
     "output_type": "stream",
     "text": [
      "Timing of Great_Circle Implementation\n",
      "CPU times: user 1.66 s, sys: 0 ns, total: 1.66 s\n",
      "Wall time: 1.66 s\n",
      "\n",
      "Timeing of Geohash Implementation\n",
      "CPU times: user 796 ms, sys: 0 ns, total: 796 ms\n",
      "Wall time: 798 ms\n"
     ]
    },
    {
     "data": {
      "text/html": [
       "<div>\n",
       "<style>\n",
       "    .dataframe thead tr:only-child th {\n",
       "        text-align: right;\n",
       "    }\n",
       "\n",
       "    .dataframe thead th {\n",
       "        text-align: left;\n",
       "    }\n",
       "\n",
       "    .dataframe tbody tr th {\n",
       "        vertical-align: top;\n",
       "    }\n",
       "</style>\n",
       "<table border=\"1\" class=\"dataframe\">\n",
       "  <thead>\n",
       "    <tr style=\"text-align: right;\">\n",
       "      <th></th>\n",
       "      <th>Geohash</th>\n",
       "      <th>EventCode</th>\n",
       "      <th>Lat-Long</th>\n",
       "      <th>Distance</th>\n",
       "      <th>Url</th>\n",
       "    </tr>\n",
       "  </thead>\n",
       "  <tbody>\n",
       "    <tr>\n",
       "      <th>0</th>\n",
       "      <td>s49m9sjvkj3n</td>\n",
       "      <td>013</td>\n",
       "      <td>(15.05, 1.83)</td>\n",
       "      <td>1.29</td>\n",
       "      <td>http://www.tbo.com/ap/national/us-general-lays...</td>\n",
       "    </tr>\n",
       "    <tr>\n",
       "      <th>1</th>\n",
       "      <td>s43sbhtk3zx8</td>\n",
       "      <td>020</td>\n",
       "      <td>(13.52, 2.12)</td>\n",
       "      <td>173.47</td>\n",
       "      <td>http://dailycaller.com/2017/10/23/dunford-reve...</td>\n",
       "    </tr>\n",
       "    <tr>\n",
       "      <th>2</th>\n",
       "      <td>s43sbhtk3zx8</td>\n",
       "      <td>020</td>\n",
       "      <td>(13.52, 2.12)</td>\n",
       "      <td>173.47</td>\n",
       "      <td>http://dailycaller.com/2017/10/23/dunford-reve...</td>\n",
       "    </tr>\n",
       "  </tbody>\n",
       "</table>\n",
       "</div>"
      ],
      "text/plain": [
       "        Geohash EventCode       Lat-Long  Distance  \\\n",
       "0  s49m9sjvkj3n       013  (15.05, 1.83)      1.29   \n",
       "1  s43sbhtk3zx8       020  (13.52, 2.12)    173.47   \n",
       "2  s43sbhtk3zx8       020  (13.52, 2.12)    173.47   \n",
       "\n",
       "                                                 Url  \n",
       "0  http://www.tbo.com/ap/national/us-general-lays...  \n",
       "1  http://dailycaller.com/2017/10/23/dunford-reve...  \n",
       "2  http://dailycaller.com/2017/10/23/dunford-reve...  "
      ]
     },
     "execution_count": 6,
     "metadata": {},
     "output_type": "execute_result"
    }
   ],
   "source": [
    "print(\"Timing of Great_Circle Implementation\")\n",
    "%time great_circle()\n",
    "print(\"\\nTimeing of Geohash Implementation\")\n",
    "%time geohash()"
   ]
  },
  {
   "cell_type": "markdown",
   "metadata": {},
   "source": [
    "##Task 4: Model Outputs\n",
    "\n",
    "Using the information recieved from a search we are able to use the coordinates to plot to a map using the folium library. A function is used that uses the same parameters as before and passed to the geohash() function. A map is created using the Map() method. Now we can loop through the events and place a marker at the corresponding lat/long points. A popup is added to the Marker() method which adds the urls to each marker so that the viewer can find the source where the event came from. Some randomness is added to the coordinates so that the markers are not on top of eachother."
   ]
  },
  {
   "cell_type": "code",
   "execution_count": 7,
   "metadata": {},
   "outputs": [
    {
     "data": {
      "text/html": [
       "<div style=\"width:100%;\"><div style=\"position:relative;width:100%;height:0;padding-bottom:60%;\"><iframe src=\"data:text/html;charset=utf-8;base64,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\" style=\"position:absolute;width:100%;height:100%;left:0;top:0;border:none !important;\" allowfullscreen webkitallowfullscreen mozallowfullscreen></iframe></div></div>"
      ],
      "text/plain": [
       "<folium.folium.Map at 0x7fe547c548d0>"
      ]
     },
     "execution_count": 7,
     "metadata": {},
     "output_type": "execute_result"
    }
   ],
   "source": [
    "import folium\n",
    "import random\n",
    "\n",
    "def get_map(x = (33,43), y = 250, z = [13,14,18,19,20]):\n",
    "    df = geohash(x,y,z)\n",
    "    map_1 = folium.Map(location=[x[0],x[1]],zoom_start =8)\n",
    "    for i in range(len(df)):\n",
    "        lat = df['Lat-Long'][i][0]\n",
    "        long = df['Lat-Long'][i][1]\n",
    "        #Add some randomness\n",
    "        lat_ran = (random.random()*2 -1)/20\n",
    "        long_ran = (random.random()*2 - 1)/20\n",
    "        folium.Marker(location = [lat + lat_ran,long+long_ran], popup = df['Url'][i]).add_to(map_1)\n",
    "    return map_1\n",
    "\n",
    "m = get_map()\n",
    "m\n"
   ]
  },
  {
   "cell_type": "markdown",
   "metadata": {},
   "source": [
    "The below code prints out a table in html format with information for each event that may be of importance to the end user. "
   ]
  },
  {
   "cell_type": "code",
   "execution_count": 9,
   "metadata": {},
   "outputs": [
    {
     "data": {
      "text/html": [
       "<table>\n",
       "<thead>\n",
       "<tr><th>Geohash     </th><th style=\"text-align: right;\">  EventCode</th><th>Lat-Long                                </th><th style=\"text-align: right;\">  Distance</th><th>Url                                                                                                                       </th></tr>\n",
       "</thead>\n",
       "<tbody>\n",
       "<tr><td>svztdjnekv7p</td><td style=\"text-align: right;\">        013</td><td>(33.340000000000003, 44.390000000000001)</td><td style=\"text-align: right;\">    135.09</td><td>http://nypost.com/2017/10/03/team-trump-can-still-prevent-the-next-mideast-explosion/                                     </td></tr>\n",
       "<tr><td>svz79pryfmcg</td><td style=\"text-align: right;\">        020</td><td>(33.0, 44.0)                            </td><td style=\"text-align: right;\">     93.26</td><td>https://www.opednews.com/articles/Dylan-s-Alembic-Against-t-by-Chris-Floyd-Bob-Dylan_Mortality_Songs_Women-171005-212.html</td></tr>\n",
       "<tr><td>svztdjnekv7p</td><td style=\"text-align: right;\">        014</td><td>(33.340000000000003, 44.390000000000001)</td><td style=\"text-align: right;\">    135.09</td><td>https://www.voanews.com/a/turkey-president-erdogan-vows-tough-sanctions-to-thwart-iraqi-kurdish-independence/4058294.html </td></tr>\n",
       "<tr><td>svz79pryfmcg</td><td style=\"text-align: right;\">        020</td><td>(33.0, 44.0)                            </td><td style=\"text-align: right;\">     93.26</td><td>https://www.opednews.com/articles/Dylan-s-Alembic-Against-t-by-Chris-Floyd-Bob-Dylan_Mortality_Songs_Women-171005-212.html</td></tr>\n",
       "<tr><td>svz79pryfmcg</td><td style=\"text-align: right;\">        014</td><td>(33.0, 44.0)                            </td><td style=\"text-align: right;\">     93.26</td><td>http://gazette.com/turkey-iraq-kurds/article/feed/499238                                                                  </td></tr>\n",
       "<tr><td>svz79pryfmcg</td><td style=\"text-align: right;\">        014</td><td>(33.0, 44.0)                            </td><td style=\"text-align: right;\">     93.26</td><td>http://gazette.com/turkey-iraq-kurds/article/feed/499238                                                                  </td></tr>\n",
       "<tr><td>svz79pryfmcg</td><td style=\"text-align: right;\">        020</td><td>(33.0, 44.0)                            </td><td style=\"text-align: right;\">     93.26</td><td>http://gazette.com/turkey-iraq-kurds/article/feed/499238                                                                  </td></tr>\n",
       "<tr><td>svz79pryfmcg</td><td style=\"text-align: right;\">        013</td><td>(33.0, 44.0)                            </td><td style=\"text-align: right;\">     93.26</td><td>http://beta.latimes.com/la-fg-missing-soldier-found-20171006-story.html                                                   </td></tr>\n",
       "<tr><td>svztdjnekv7p</td><td style=\"text-align: right;\">        020</td><td>(33.340000000000003, 44.390000000000001)</td><td style=\"text-align: right;\">    135.09</td><td>http://iphonefresh.com/2017/10/10/founder-of-security-firm-blackwater-considering-senate-run.html                         </td></tr>\n",
       "<tr><td>svztdjnekv7p</td><td style=\"text-align: right;\">        020</td><td>(33.340000000000003, 44.390000000000001)</td><td style=\"text-align: right;\">    135.09</td><td>http://iphonefresh.com/2017/10/10/founder-of-security-firm-blackwater-considering-senate-run.html                         </td></tr>\n",
       "</tbody>\n",
       "</table>"
      ],
      "text/plain": [
       "<IPython.core.display.HTML object>"
      ]
     },
     "metadata": {},
     "output_type": "display_data"
    }
   ],
   "source": [
    "from IPython.core.display import display, HTML \n",
    "import tabulate\n",
    "df = geohash(x = (33,43), y = 250, z = [13,14,18,19,20])\n",
    "display(HTML(tabulate.tabulate(df , tablefmt='html', headers = df.columns.values,showindex=False,floatfmt=\".2f\")))"
   ]
  }
 ],
 "metadata": {
  "kernelspec": {
   "display_name": "Python 3",
   "language": "python",
   "name": "python3"
  },
  "language_info": {
   "codemirror_mode": {
    "name": "ipython",
    "version": 3
   },
   "file_extension": ".py",
   "mimetype": "text/x-python",
   "name": "python",
   "nbconvert_exporter": "python",
   "pygments_lexer": "ipython3",
   "version": "3.5.2"
  }
 },
 "nbformat": 4,
 "nbformat_minor": 2
}
