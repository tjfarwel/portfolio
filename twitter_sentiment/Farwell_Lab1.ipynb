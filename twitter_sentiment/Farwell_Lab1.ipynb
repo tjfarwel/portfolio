{
 "cells": [
  {
   "cell_type": "markdown",
   "metadata": {},
   "source": [
    "#OA3802 Lab 1: Twitter Sentiment Analysis\n",
    "###Travis Farwell\n",
    "##Task 1\n",
    "Task 1 asks to identify the top 5 hashtags from a sample of tweets that were scraped using the Tweepy API. The plot_top_hashes function uses a helper function named get_tweets that takes as input a file in json format of sample tweets. The function then uses the raw text of each tweet and to search for all hash tags using a regular expression. Each hashtag is appended to a list and then converted to a dataframe. Using the value_counts pandas dataframe method, the top 5 hashtags are printed and then output as a barchart."
   ]
  },
  {
   "cell_type": "code",
   "execution_count": 1,
   "metadata": {
    "scrolled": false
   },
   "outputs": [
    {
     "name": "stdout",
     "output_type": "stream",
     "text": [
      "MPN             45\n",
      "KCAArgentina    25\n",
      "ร               19\n",
      "워너원             16\n",
      "Empire          13\n",
      "Name: 0, dtype: int64\n"
     ]
    },
    {
     "data": {
      "image/png": "[encoded data removed]",
      "text/plain": [
       "<matplotlib.figure.Figure at 0x7f02e1f1ccf8>"
      ]
     },
     "metadata": {},
     "output_type": "display_data"
    }
   ],
   "source": [
    "import json\n",
    "import re\n",
    "import pandas as pd\n",
    "import matplotlib.pyplot as plt\n",
    "%matplotlib inline\n",
    "#Function that returns list of tweet data\n",
    "def get_tweets(file = \"SampleData.txt\"):\n",
    "    tweet_file = open(file, \"r\")\n",
    "    tweets_data = [] \n",
    "    for line in tweet_file:\n",
    "        try:\n",
    "            tweet = json.loads(line)\n",
    "            tweets_data.append(tweet)\n",
    "        except:\n",
    "            continue\n",
    "    return tweets_data\n",
    "\n",
    "def plot_top_hashes(file = \"SampleData.txt\"):\n",
    "    \n",
    "    tweets_data = get_tweets(file)\n",
    "    hash_list = []\n",
    "\n",
    "    for i in range(len(tweets_data)):\n",
    "      try:\n",
    "        #print(tweets_data[i]['text'])\n",
    "        temp_list = re.findall(r\"#(\\w+)\",tweets_data[i]['text'] )\n",
    "        if len(temp_list) > 0:\n",
    "          #print(temp_list)\n",
    "          hash_list.append(temp_list)\n",
    "      except:\n",
    "        continue\n",
    "        \n",
    "    word_dict = {}\n",
    "    word_list = []\n",
    "    for i in range(len(hash_list)):\n",
    "      for j in range(len(hash_list[i])):\n",
    "        if hash_list[i][j] in word_dict:\n",
    "            word_dict[hash_list[i][j]] += 1\n",
    "            word_list.append(hash_list[i][j])\n",
    "        else:\n",
    "            word_dict[hash_list[i][j]] = 1\n",
    "            word_list.append(hash_list[i][j])\n",
    "    #print(word_dict) \n",
    "\n",
    "    df = pd.DataFrame(word_list)\n",
    "    df.head()\n",
    "    series = df[0].value_counts()[:5]\n",
    "    print(series.head(5))\n",
    "    series.plot(kind='bar', title = \"Top 5 Hashtags\")\n",
    "    \n",
    "plot_top_hashes()\n",
    "\n"
   ]
  },
  {
   "cell_type": "markdown",
   "metadata": {},
   "source": [
    "##Task 2\n",
    "This task asks to find the sentiment of each tweet in the sample. The sentiment uses a file with scores for approximately 1600 words with a value of -3 to 3. Each tweet will be split up into a list of words to compute the sentiment. I've decided to extract all punctuation so that strings including these characters will be converted to only letters. Each word will also be converted to lowercase. I've decided to leave retweets since the sample is large enough and retweets are still tweets.  The function loops through every tweet and evaluates the raw text and computes a sentiment even if the text is empty. A try/except block is used to avoid errors due to empty strings. The function returns a list of lists which are the words of each tweet and a list of sentiment scores matching to the list of words by index both of length equal to the number of lines in the sample tweet file."
   ]
  },
  {
   "cell_type": "code",
   "execution_count": 2,
   "metadata": {
    "collapsed": true
   },
   "outputs": [],
   "source": [
    "def tweet_sentiment(file = \"SampleData.txt\", new_words = {}):\n",
    "    afinnfile = open(\"AFINN-111.txt\")\n",
    "    scores = {} # initialize an empty dictionary\n",
    "    for line in afinnfile:\n",
    "        term, score  = line.split(\"\\t\")  # The file is tab-delimited. \"\\t\" means \"tab character\"\n",
    "        scores[term] = int(score)  # Convert the score to an integer.\n",
    "    scores = { **new_words,**scores}\n",
    "    sentiment = []\n",
    "    words_list = []\n",
    "    tweets_data = get_tweets(file)\n",
    "    #print(scores.items()) # Print every (term, score) pair in the dictionary\n",
    "    for i in range(len(tweets_data)):\n",
    "      try:\n",
    "        #print(tweets_data[i]['text'])\n",
    "        text = tweets_data[i]['text']\n",
    "        text = re.sub(\"[!\\\"#$%&'()*+,-./:;<=>?@[\\]^_`{|}~]\", '', text)\n",
    "        text = str.lower(text)\n",
    "        words = text.split()\n",
    "        words_list.append(words)\n",
    "        sen = 0\n",
    "        for j in range(len(words)):\n",
    "            try:\n",
    "                sen += scores[str.lower(words[j])]\n",
    "            except:\n",
    "                continue\n",
    "        sentiment.append(sen)\n",
    "      except:\n",
    "        sentiment.append(0)\n",
    "        words_list.append([])\n",
    "        continue\n",
    "    return words_list,sentiment"
   ]
  },
  {
   "cell_type": "markdown",
   "metadata": {},
   "source": [
    "The below block of code prints out the tweet and sentiment of the first 10 tweets with raw text skipping over the empty values."
   ]
  },
  {
   "cell_type": "code",
   "execution_count": 3,
   "metadata": {},
   "outputs": [
    {
     "name": "stdout",
     "output_type": "stream",
     "text": [
      "Text:  RT @UnDixionario: https://t.co/8RZpLMOPd2\n",
      "Sentiment:  0\n",
      "Text:  لا تسبق غيرك اسبق نفسك في كل سنة اصدر نسخة جديدة منك أفضل من السنة التي قبلها ، نسخة أبهى و أجمل لكن حافظ على أصالة روحك.\n",
      "Sentiment:  0\n",
      "Text:  RT @ruba030: @bxshra75 @samah_3mmari ما انحرمش ☹️❤️❤️❤️\n",
      "Sentiment:  0\n",
      "Text:  RT @shadyhussien: مساء الخير...هو احنا ممكن نعمل pause للجو كدة علطول ؟\n",
      "Sentiment:  0\n",
      "Text:  RT @ANIABELLO_R: ¿Quien mintió? https://t.co/YkWZSfxgRZ\n",
      "Sentiment:  0\n",
      "Text:  Benja me dijo que se cambia de cole, y me la re bajo 💔👎\n",
      "Sentiment:  0\n",
      "Text:  RT @TrillPyrvmids: let situations evolve at their own pace\n",
      "Sentiment:  0\n",
      "Text:  RT @tragueiverdades: Azeite extra virgem https://t.co/WhyHTvT671\n",
      "Sentiment:  0\n",
      "Text:  RT @TrillPyrvmids: let situations evolve at their own pace\n",
      "Sentiment:  0\n",
      "Text:  I'm sorry penguins I forgot to wear my game day socks u deserve better from me\n",
      "Sentiment:  1\n"
     ]
    }
   ],
   "source": [
    "tweets_data = get_tweets()\n",
    "words_list,sentiment = tweet_sentiment()\n",
    "i = 0\n",
    "j = 0\n",
    "while j < 10:\n",
    "    try:\n",
    "        print(\"Text: \", tweets_data[i]['text'])\n",
    "        print(\"Sentiment: \", sentiment[i])\n",
    "        j += 1\n",
    "        i += 1\n",
    "    except:\n",
    "        i += 1\n",
    "        continue\n",
    "    \n"
   ]
  },
  {
   "cell_type": "markdown",
   "metadata": {
    "collapsed": true
   },
   "source": [
    "##Task 3\n",
    "This task adds sentiment values for new words from a set of sample tweets. It first calls the tweet_sentiment function and stores the words in a list of lists and a list of sentiment values. Then for each word the function adds the value of the tweet's sentiment value to a dictionary where the key is the word and the value is a list containing the values of sentiment for each tweet that the word occurs. After going through all words in each tweet the lists are averaged and this value becomes the sentiment value for the corresponding word. "
   ]
  },
  {
   "cell_type": "code",
   "execution_count": 6,
   "metadata": {
    "collapsed": true
   },
   "outputs": [],
   "source": [
    "def new_sentiment_engine(oldtweets = \"SampleData.txt\"):\n",
    "    words_list,sentiment = tweet_sentiment(oldtweets)\n",
    "    new_words = {}\n",
    "    for i in range(len(sentiment)):\n",
    "        for j in range(len(words_list[i])):\n",
    "            key = words_list[i][j]\n",
    "            value = sentiment[i] \n",
    "            if key in new_words:\n",
    "                new_words[key].append(value)\n",
    "            else:\n",
    "                new_words[key] = [value]\n",
    "    for key in new_words:\n",
    "        new_words[key] = sum(new_words[key])/len(new_words[key])\n",
    "    return new_words"
   ]
  },
  {
   "cell_type": "markdown",
   "metadata": {},
   "source": [
    "##Task 4\n",
    "The final task scrapes for tweets that have a particular hastag. I chose #NFL since there seems to be mixed sentiment around the current actions of players not standing during the playing of the National Anthem. I let the scraper run for about 2 hours to make sure I captured a lot of tweets. First, the list of new word values is obtained from the original sample data. Then this is passed to the tweet_sentiment function along with the new nfl tweet data. The returned values are the words of each nfl tweet broken up and each tweets sentiment. The histogram of the tweet sentiments looks to be fairly normal but I see heavier sentiment in the negative values possibly indicating anti-sentiment towards the NFL and this ongoing controversy. "
   ]
  },
  {
   "cell_type": "code",
   "execution_count": 7,
   "metadata": {},
   "outputs": [
    {
     "data": {
      "image/png": "[encoded data removed]",
      "text/plain": [
       "<matplotlib.figure.Figure at 0x7f02d11785f8>"
      ]
     },
     "metadata": {},
     "output_type": "display_data"
    }
   ],
   "source": [
    "new_words_dict = new_sentiment_engine()\n",
    "words_list, sentiment = tweet_sentiment(\"nflData.txt\", new_words_dict)\n",
    "plt.hist(sentiment, bins=50)\n",
    "plt.title(\"Sentiment of Tweets with NFL Hashtags\")\n",
    "plt.ylabel(\"Number of Tweets\")\n",
    "plt.xlabel(\"Sentiment score\")\n",
    "plt.show()"
   ]
  }
 ],
 "metadata": {
  "kernelspec": {
   "display_name": "Python 3",
   "language": "python",
   "name": "python3"
  },
  "language_info": {
   "codemirror_mode": {
    "name": "ipython",
    "version": 3
   },
   "file_extension": ".py",
   "mimetype": "text/x-python",
   "name": "python",
   "nbconvert_exporter": "python",
   "pygments_lexer": "ipython3",
   "version": "3.5.2"
  }
 },
 "nbformat": 4,
 "nbformat_minor": 2
}
